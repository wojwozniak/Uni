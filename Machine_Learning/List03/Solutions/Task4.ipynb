{
 "cells": [
  {
   "cell_type": "markdown",
   "metadata": {},
   "source": [
    "# Task 4, Homework 3 - Machine Learning\n",
    "## Optimization for Neural Networks\n",
    "The **backpropagation algorithm** is the foundational algorithm in deep learning. In this task You will have to go through a single iteration of said algorithm and compare the results after updating networks weights. <br>\n",
    "You are given a neural network with one input layer consisting of two input nodes ${n_1, n_2}$, one hidden layer with two neurons ${n_3, n_4}$ and an output layer with a single node $n_5$. We will denote the weight connecting $n_i$ to $n_j$ as $w_{i,j}$. A bias related to $n_i$ will be denoted as $b_i$. Parameters are initialized as follows:\n",
    "* $w_{1,3} = 1.5$ ; $w_{2,3} = -2.5$ ; $b_{3} = 0.3$\n",
    "* $w_{1,4} = 1$ ; $w_{2,4} = -2.5$ ; $b_{4} = 0.2$\n",
    "* $w_{3,5} = 4$ ; $w_{4,5} = 3$ ; $b_{5} = -0.8$ <br>\n",
    "\n",
    "Additionally, neurons $n_3$ and $n_4$ are equipped with the sigmoid activation function: $\\sigma(x) = \\frac{1}{1+e^{-x}} $<br>\n",
    "Your task is to use two training examples: $x = \\{ (1,2), (2,0)\\}$, $y = \\{-1, 6\\}$ to preform a single backpropagation step - preform forward calculations and propagate the received error backwards, updating the weights. After all weights have been updated, check how the predictions change, preforming additional forward pass."
   ]
  },
  {
   "cell_type": "markdown",
   "metadata": {},
   "source": [
    "The **backpropagation algorithm** is the foundational algorithm in deep learning. In this task You will have to go through a single iteration of said algorithm and compare the results after updating networks weights. <br>\n",
    "You are given a neural network with one input layer consisting of two input nodes ${n_1, n_2}$, one hidden layer with two neurons ${n_3, n_4}$ and an output layer with a single node $n_5$. We will denote the weight connecting $n_i$ to $n_j$ as $w_{i,j}$. A bias related to $n_i$ will be denoted as $b_i$. Parameters are initialized as follows:\n",
    "* $w_{1,3} = 1.5$ ; $w_{2,3} = -2.5$ ; $b_{3} = 0.3$\n",
    "* $w_{1,4} = 1$ ; $w_{2,4} = -2.5$ ; $b_{4} = 0.2$\n",
    "* $w_{3,5} = 4$ ; $w_{4,5} = 3$ ; $b_{5} = -0.8$ <br>\n",
    "\n",
    "Additionally, neurons $n_3$ and $n_4$ are equipped with the sigmoid activation function: $\\sigma(x) = \\frac{1}{1+e^{-x}} $<br>\n",
    "Your task is to use two training examples: $x = \\{ (1,2), (2,0)\\}$, $y = \\{-1, 6\\}$ to preform a single backpropagation step - preform forward calculations and propagate the received error backwards, updating the weights. After all weights have been updated, check how the predictions change, preforming additional forward pass."
   ]
  },
  {
   "cell_type": "markdown",
   "metadata": {},
   "source": [
    "## Solution"
   ]
  },
  {
   "cell_type": "markdown",
   "metadata": {},
   "source": [
    "I have solved this problem in OneNote - pdf file with calculations will be attached to this notebook. Below you can find a step-by-step explaination of the approach I took, so you don't have to try and guess that from my hand writing"
   ]
  },
  {
   "cell_type": "markdown",
   "metadata": {},
   "source": [
    "### Overview of the solution:\n",
    "- For each of examples, I do a forward pass:\n",
    "  - Calculate input to hidden layer neurons\n",
    "  - Calculate output from hidden layer neurons\n",
    "  - Calculate input to the output neuron\n",
    "  - Calculate output for the output neuron\n",
    "  - Calculate error (loss) for the example\n",
    "- Calculate average error\n",
    "- Backpropagate (with averages) to calculate gradients for weights and biases\n",
    "- Calculate new weights (using 0.1 learning rate)\n",
    "- Do another forward pass, using new weights\n",
    "\n",
    "### Conclussion from the task\n",
    "After second forward pass we can see that both predictions were made more accurate (especially second one, which before first backpropagation had quite a big error). We can see that algorithm works correctly."
   ]
  }
 ],
 "metadata": {
  "language_info": {
   "name": "python"
  }
 },
 "nbformat": 4,
 "nbformat_minor": 2
}
